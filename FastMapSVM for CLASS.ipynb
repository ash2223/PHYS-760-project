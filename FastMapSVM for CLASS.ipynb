{
 "cells": [
  {
   "cell_type": "code",
   "execution_count": 5,
   "id": "bef9aa40",
   "metadata": {},
   "outputs": [],
   "source": [
    "import numpy as np\n",
    "import classy\n",
    "\n",
    "import fastmapsvm as fm\n",
    "import h5py\n",
    "import sklearn.metrics"
   ]
  },
  {
   "cell_type": "markdown",
   "id": "8923fb09",
   "metadata": {},
   "source": [
    "# Setup Training Data"
   ]
  },
  {
   "cell_type": "code",
   "execution_count": 6,
   "id": "42f71e87",
   "metadata": {},
   "outputs": [],
   "source": [
    "def random_sample(n_samples, param_range):\n",
    "    pmin = param_range[0]\n",
    "    pmax = param_range[1]\n",
    "    return np.random.uniform(pmin, pmax, n_samples) "
   ]
  },
  {
   "cell_type": "code",
   "execution_count": 7,
   "id": "7e38eaec",
   "metadata": {},
   "outputs": [],
   "source": [
    "n_params = 5\n",
    "n_samples = 1000 \n",
    "\n",
    "omega_b_sample = random_sample(n_samples, [0.01875, 0.02625])\n",
    "omega_cdm_sample = random_sample(n_samples, [0.05, 0.255])\n",
    "h_sample = random_sample(n_samples, [0.64, 0.82])\n",
    "ns_sample = random_sample(n_samples, [0.84, 1.1])\n",
    "ln_As_sample = random_sample(n_samples, [1.61, 3.91])\n",
    "\n",
    "input_parameters = np.stack((omega_b_sample, omega_cdm_sample, h_sample, ns_sample, ln_As_sample), axis=-1)"
   ]
  },
  {
   "cell_type": "code",
   "execution_count": 8,
   "id": "ccd88f18",
   "metadata": {},
   "outputs": [],
   "source": [
    "import time\n",
    "# output_spectra\n",
    "kmin = 1e-5\n",
    "kmax = 1e1\n",
    "n_k = 420\n",
    "k_arr = np.geomspace(kmin, kmax, n_k)\n",
    "output_spectra = np.zeros((n_samples, n_k))\n",
    "\n",
    "# t = time.time()\n",
    "for i in range(n_samples):\n",
    "    param = input_parameters[i]\n",
    "    param_dict = {\n",
    "        'omega_b': param[0], \n",
    "        'omega_cdm': param[1], \n",
    "        'h': param[2], \n",
    "        'n_s': param[3], \n",
    "        'A_s': 10**(param[4])/1.0e10,\n",
    "        'output': 'mPk',\n",
    "        'P_k_max_1/Mpc': kmax,\n",
    "    \n",
    "    }\n",
    "    cosmo = classy.Class()\n",
    "    cosmo.set(param_dict)\n",
    "    cosmo.compute()\n",
    "    output_spectra[i,:] = [cosmo.pk_lin(k, 0) for k in k_arr] # just doing z=0 for now\n",
    "# print(f'took {time.time()-t} s')"
   ]
  },
  {
   "cell_type": "code",
   "execution_count": 9,
   "id": "a5bb4c24",
   "metadata": {},
   "outputs": [],
   "source": [
    "np.savez_compressed(f'test_nsamples_{n_samples}', parameters=input_parameters, spectra=output_spectra)"
   ]
  },
  {
   "cell_type": "markdown",
   "id": "73f2b361",
   "metadata": {},
   "source": [
    "# Create P(k) Model "
   ]
  },
  {
   "cell_type": "code",
   "execution_count": null,
   "id": "f6be3613",
   "metadata": {},
   "outputs": [],
   "source": [
    "model_path = \"CLASS_model.hdf5\" # Model output path.\n",
    "data_path  = \"test_nsamples_{n_samples}\"       # Test/training data path.\n",
    "\n",
    "# Define a distance function on pairs of objects.\n",
    "def correlation_distance(a, b):\n",
    "    \"\"\"\n",
    "    Returns the correlation distance between objects a and b.\n",
    "    \"\"\"\n",
    "    return (\n",
    "        1 - np.max(np.abs(np.mean(fm.distance.ndcorrelate(a, b, mode=\"same\"), axis=0)))\n",
    "    )"
   ]
  },
  {
   "cell_type": "code",
   "execution_count": null,
   "id": "cf1ba4cb",
   "metadata": {},
   "outputs": [],
   "source": []
  }
 ],
 "metadata": {
  "kernelspec": {
   "display_name": "Python 3",
   "language": "python",
   "name": "python3"
  },
  "language_info": {
   "codemirror_mode": {
    "name": "ipython",
    "version": 3
   },
   "file_extension": ".py",
   "mimetype": "text/x-python",
   "name": "python",
   "nbconvert_exporter": "python",
   "pygments_lexer": "ipython3",
   "version": "3.8.8"
  }
 },
 "nbformat": 4,
 "nbformat_minor": 5
}
